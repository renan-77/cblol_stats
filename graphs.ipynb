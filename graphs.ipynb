{
 "metadata": {
  "language_info": {
   "codemirror_mode": {
    "name": "ipython",
    "version": 3
   },
   "file_extension": ".py",
   "mimetype": "text/x-python",
   "name": "python",
   "nbconvert_exporter": "python",
   "pygments_lexer": "ipython3",
   "version": "3.8.3-final"
  },
  "orig_nbformat": 2,
  "kernelspec": {
   "name": "python_defaultSpec_1598051722520",
   "display_name": "Python 3.8.3 64-bit ('base': conda)"
  }
 },
 "nbformat": 4,
 "nbformat_minor": 2,
 "cells": [
  {
   "cell_type": "code",
   "execution_count": 68,
   "metadata": {
    "tags": []
   },
   "outputs": [
    {
     "output_type": "error",
     "ename": "SyntaxError",
     "evalue": "Missing parentheses in call to 'print'. Did you mean print(a)? (<ipython-input-68-18710227a5a4>, line 45)",
     "traceback": [
      "\u001b[0;36m  File \u001b[0;32m\"<ipython-input-68-18710227a5a4>\"\u001b[0;36m, line \u001b[0;32m45\u001b[0m\n\u001b[0;31m    print a\u001b[0m\n\u001b[0m          ^\u001b[0m\n\u001b[0;31mSyntaxError\u001b[0m\u001b[0;31m:\u001b[0m Missing parentheses in call to 'print'. Did you mean print(a)?\n"
     ]
    }
   ],
   "source": [
    "import numpy as np\n",
    "import pandas as pd\n",
    "import matplotlib.pyplot as plt\n",
    "import json\n",
    "from collections import Counter\n",
    "\n",
    "matches = pd.read_json('data/matches.json')\n",
    "\n",
    "teams = []\n",
    "\n",
    "wins = []\n",
    "\n",
    "# matches.tail()\n",
    "\n",
    "# matches.info()\n",
    "\n",
    "# matches.describe()\n",
    "\n",
    "i = 2\n",
    "\n",
    "for i in range(2,50):\n",
    "    # team_a = matches[\"results\"][i][0][\"team_id\"]\n",
    "    # match_result = matches[\"results\"][i][0][\"score\"]\n",
    "    \n",
    "    # print(\"Team {} had a result of: {}\".format(team_a,match_result))\n",
    "    # print(len(teams))\n",
    "\n",
    "########## This is not working, trying to populate an empty array. ################\n",
    "\n",
    "    wins.append(matches[\"winner\"][i][\"acronym\"])\n",
    "\n",
    "    if(matches[\"winner\"][i][\"acronym\"] in teams):\n",
    "        # print(\"Repeating at: {}\".format(j))\n",
    "        i += 1\n",
    "    else:\n",
    "        teams.append(matches[\"winner\"][i][\"acronym\"])\n",
    "\n",
    "        \n",
    "\n",
    "###################################################################################\n",
    "print(wins)\n",
    "\n",
    "a = dict(Counter(wins))\n",
    "\n",
    "print(a)\n",
    "\n",
    "windf = pd.DataFrame(data=wins,columns=['List'])\n",
    "\n",
    "windf.List.hist()\n",
    "\n",
    "# plt.bar([row[0] for row in wins], [row[0] for row in wins])\n",
    "\n",
    "    # ploting_winners =  matches[\"winner\"][i][\"acronym\"]\n",
    "\n",
    "    # print(matches[\"winner\"][i][\"acronym\"] , \"time in loop: {}\".format(i))\n",
    "\n",
    "# matches[\"winner\"][4][\"acronym\"]\n",
    "\n",
    "\n"
   ]
  },
  {
   "cell_type": "code",
   "execution_count": null,
   "metadata": {},
   "outputs": [],
   "source": []
  }
 ]
}